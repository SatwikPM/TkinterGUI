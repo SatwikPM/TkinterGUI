{
 "cells": [
  {
   "cell_type": "markdown",
   "metadata": {},
   "source": [
    "# Python GUI – tkinter\n",
    "Python offers multiple options for developing GUI (Graphical User Interface). Out of all the GUI methods, tkinter is the most commonly used method. It is a standard Python interface to the Tk GUI toolkit shipped with Python. Python with tkinter is the fastest and easiest way to create the GUI applications. Creating a GUI using tkinter is an easy task."
   ]
  },
  {
   "cell_type": "raw",
   "metadata": {},
   "source": [
    "Creating a GUI application using Tkinter is an easy task. All you need to do is perform the following steps −\n",
    "\n",
    "1.Import the Tkinter module.\n",
    "\n",
    "2.Create the GUI application main window.\n",
    "\n",
    "3.Add one or more of the above-mentioned widgets to the GUI application.\n",
    "\n",
    "4.Enter the main event loop to take action against each event triggered by the user."
   ]
  },
  {
   "cell_type": "raw",
   "metadata": {},
   "source": [
    "Most important GUI are listed below.\n",
    "\n",
    "Tkinter − Tkinter is the Python interface to the Tk GUI toolkit shipped with Python. We would look this option in this chapter.\n",
    "\n",
    "wxPython − This is an open-source Python interface for wxWindows http://wxpython.org.\n",
    "\n",
    "JPython − JPython is a Python port for Java which gives Python scripts seamless access to Java class libraries on the local machine http://www.jython.org."
   ]
  },
  {
   "cell_type": "raw",
   "metadata": {},
   "source": [
    "tkinter also offers access to the geometric configuration of the widgets which can organize the widgets in the parent windows. \n",
    "\n",
    "There are mainly three geometry manager classes class.\n",
    "\n",
    "pack() method:It organizes the widgets in blocks before placing in the parent widget.\n",
    "\n",
    "grid() method:It organizes the widgets in grid (table-like structure) before placing in the parent widget.\n",
    "\n",
    "place() method:It organizes the widgets by placing them on specific positions directed by the programmer."
   ]
  },
  {
   "cell_type": "code",
   "execution_count": 2,
   "metadata": {},
   "outputs": [],
   "source": [
    "import tkinter #import of the package\n",
    "top = tkinter.Tk()# creation of GUI application window\n",
    "# Code to add widgets will go here... # add widgets\n",
    "top.mainloop()# creation of main loop"
   ]
  },
  {
   "cell_type": "code",
   "execution_count": 5,
   "metadata": {},
   "outputs": [],
   "source": [
    "import tkinter as tk \n",
    "r = tk.Tk() \n",
    "r.title('Counting Seconds') \n",
    "button = tk.Button(r, text='Stop', width=25, command=r.destroy) \n",
    "button.pack() \n",
    "r.mainloop() "
   ]
  },
  {
   "cell_type": "code",
   "execution_count": 4,
   "metadata": {},
   "outputs": [],
   "source": [
    "from tkinter import *\n",
    "#import tkinter\n",
    "root = Tk()\n",
    "\n",
    "menu = Menu(root) \n",
    "\n",
    "root.config(menu=menu) \n",
    "\n",
    "filemenu = Menu(menu) \n",
    "\n",
    "menu.add_cascade(label='File', menu=filemenu) \n",
    "filemenu.add_command(label='New') \n",
    "filemenu.add_command(label='Open...') \n",
    "filemenu.add_separator() \n",
    "\n",
    "filemenu.add_command(label='Exit', command=root.destroy) \n",
    "\n",
    "helpmenu = Menu(menu) \n",
    "\n",
    "menu.add_cascade(label='Help', menu=helpmenu) \n",
    "helpmenu.add_command(label='About') \n",
    "root.mainloop() "
   ]
  },
  {
   "cell_type": "code",
   "execution_count": 8,
   "metadata": {},
   "outputs": [],
   "source": [
    "from tkinter import *  \n",
    "top = Tk()  \n",
    "top.geometry(\"400x250\")  \n",
    "name = Label(top, text = \"Name\").place(x = 30,y = 50)  \n",
    "email = Label(top, text = \"Email\").place(x = 30, y = 90)  \n",
    "password = Label(top, text = \"Password\").place(x = 30, y = 130)  \n",
    "e1 = Entry(top).place(x = 80, y = 50)  \n",
    "e2 = Entry(top).place(x = 80, y = 90)  \n",
    "e3 = Entry(top).place(x = 95, y = 130)  \n",
    "#button = tk.Button(r, text='Stop', width=25, command=r.destroy)\n",
    "#button.pack()\n",
    "top.mainloop()  "
   ]
  },
  {
   "cell_type": "code",
   "execution_count": 11,
   "metadata": {},
   "outputs": [],
   "source": [
    "from tkinter import *  \n",
    "parent = Tk()  \n",
    "name = Label(parent,text = \"Name\").grid(row = 0, column = 0)  \n",
    "e1 = Entry(parent).grid(row = 0, column = 1)  \n",
    "password = Label(parent,text = \"Password\").grid(row = 1, column = 0)  \n",
    "e2 = Entry(parent).grid(row = 1, column = 1)  \n",
    "submit = Button(parent, text = \"Submit\").grid(row = 4, column = 0)  #,command=r.destroy\n",
    "parent.mainloop()  "
   ]
  },
  {
   "cell_type": "code",
   "execution_count": 14,
   "metadata": {},
   "outputs": [],
   "source": [
    "import tkinter\n",
    "#import tkMessageBox version python2.x\n",
    "from tkinter import messagebox\n",
    "\n",
    "top = tkinter.Tk()\n",
    "\n",
    "def helloCallBack():\n",
    "    messagebox.showinfo( \"Hello Python\", \"Hello World\")\n",
    "\n",
    "B = tkinter.Button(top, text =\"Hello\", command = helloCallBack)\n",
    "\n",
    "B.pack()\n",
    "top.mainloop()"
   ]
  },
  {
   "cell_type": "code",
   "execution_count": 17,
   "metadata": {},
   "outputs": [],
   "source": [
    "from tkinter import *\n",
    "\n",
    "def donothing():\n",
    "    \n",
    "    filewin = Toplevel(root)\n",
    "    button = Button(filewin, text=\"Do nothing button\" ,command=root.destroy)\n",
    "    button.pack()\n",
    "   \n",
    "root = Tk()\n",
    "menubar = Menu(root)\n",
    "filemenu = Menu(menubar, tearoff=0)\n",
    "filemenu.add_command(label=\"New\", command=donothing)\n",
    "filemenu.add_command(label=\"Open\", command=donothing)\n",
    "filemenu.add_command(label=\"Save\", command=donothing)\n",
    "filemenu.add_command(label=\"Save as...\", command=donothing)\n",
    "filemenu.add_command(label=\"Close\", command=donothing)\n",
    "\n",
    "filemenu.add_separator()\n",
    "\n",
    "filemenu.add_command(label=\"Exit\", command=root.quit)\n",
    "menubar.add_cascade(label=\"File\", menu=filemenu)\n",
    "editmenu = Menu(menubar, tearoff=0)\n",
    "editmenu.add_command(label=\"Undo\", command=donothing)\n",
    "\n",
    "editmenu.add_separator()\n",
    "\n",
    "editmenu.add_command(label=\"Cut\", command=donothing)\n",
    "editmenu.add_command(label=\"Copy\", command=donothing)\n",
    "editmenu.add_command(label=\"Paste\", command=donothing)\n",
    "editmenu.add_command(label=\"Delete\", command=donothing)\n",
    "editmenu.add_command(label=\"Select All\", command=donothing)\n",
    "\n",
    "menubar.add_cascade(label=\"Edit\", menu=editmenu)\n",
    "helpmenu = Menu(menubar, tearoff=0)\n",
    "helpmenu.add_command(label=\"Help Index\", command=donothing)\n",
    "helpmenu.add_command(label=\"About...\", command=donothing)\n",
    "menubar.add_cascade(label=\"Help\", menu=helpmenu)\n",
    "\n",
    "root.config(menu=menubar)\n",
    "root.mainloop()"
   ]
  },
  {
   "cell_type": "raw",
   "metadata": {},
   "source": []
  },
  {
   "cell_type": "code",
   "execution_count": null,
   "metadata": {},
   "outputs": [],
   "source": [
    "import tkinter"
   ]
  },
  {
   "cell_type": "raw",
   "metadata": {},
   "source": []
  },
  {
   "cell_type": "code",
   "execution_count": null,
   "metadata": {},
   "outputs": [],
   "source": []
  },
  {
   "cell_type": "raw",
   "metadata": {},
   "source": [
    "Tk(screenName=None,  baseName=None,  className=’Tk’,  useTk=1):\n",
    "\n",
    "To create a main window, tkinter offers a method ‘Tk(screenName=None,  baseName=None,  className=’Tk’,  useTk=1)’. \n",
    "\n",
    "To change the name of the window, you can change the className to the desired one. The basic code used to create the main window of the application is: \n",
    "\n",
    "m=tkinter.Tk() where m is the name of the main window object"
   ]
  },
  {
   "cell_type": "raw",
   "metadata": {},
   "source": [
    "mainloop(): There is a method known by the name mainloop() is used when your application is ready to run. mainloop() is an infinite loop used to run the application, wait for an event to occur and process the event as long as the window is not closed. "
   ]
  },
  {
   "cell_type": "raw",
   "metadata": {},
   "source": [
    "tkinter also offers access to the geometric configuration of the widgets which can organize the widgets in the parent windows. \n",
    "\n",
    "There are mainly three geometry manager classes class.\n",
    "\n",
    "pack() method:It organizes the widgets in blocks before placing in the parent widget.\n",
    "\n",
    "grid() method:It organizes the widgets in grid (table-like structure) before placing in the parent widget.\n",
    "\n",
    "place() method:It organizes the widgets by placing them on specific positions directed by the programmer."
   ]
  },
  {
   "cell_type": "raw",
   "metadata": {},
   "source": [
    "Some of the major widgets are explained below:\n",
    "Button:To add a button in your application, this widget is used.\n",
    "\n",
    "The general syntax is: \n",
    "w=Button(master, option=value)\n",
    "\n",
    "master is the parameter used to represent the parent window.\n",
    "There are number of options which are used to change the format of the Buttons. Number of options can be passed as parameters separated by commas.\n",
    "\n",
    "Some of them are listed below.\n",
    "\n",
    "activebackground: to set the background color when button is under the cursor.\n",
    "\n",
    "activeforeground: to set the foreground color when button is under the cursor.\n",
    "\n",
    "bg: to set he normal background color.\n",
    "\n",
    "command: to call a function.\n",
    "\n",
    "font: to set the font on the button label.\n",
    "\n",
    "image: to set the image on the button.\n",
    "\n",
    "width: to set the width of the button.\n",
    "\n",
    "height: to set the height of the button."
   ]
  },
  {
   "cell_type": "code",
   "execution_count": null,
   "metadata": {},
   "outputs": [],
   "source": []
  },
  {
   "cell_type": "raw",
   "metadata": {},
   "source": [
    "Canvas: It is used to draw pictures and other complex layout like graphics, text and widgets.\n",
    "The general syntax is: \n",
    "\n",
    "w = Canvas(master, option=value)\n",
    "master is the parameter used to represent the parent window.\n",
    "There are number of options which are used to change the format of the widget. Number of options can be passed as parameters separated by commas. \n",
    "\n",
    "Some of them are listed below.\n",
    "bd: to set the border width in pixels.\n",
    "bg: to set the normal background color.\n",
    "cursor: to set the cursor used in the canvas.\n",
    "highlightcolor: to set the color shown in the focus highlight.\n",
    "width: to set the width of the widget.\n",
    "height: to set the height of the widget."
   ]
  },
  {
   "cell_type": "code",
   "execution_count": 18,
   "metadata": {},
   "outputs": [],
   "source": [
    "from tkinter import *\n",
    "master = Tk() \n",
    "w = Canvas(master, width=40, height=60) \n",
    "w.pack() \n",
    "canvas_height=20\n",
    "canvas_width=200\n",
    "y = int(canvas_height / 2) \n",
    "w.create_line(0, y, canvas_width, y ) \n",
    "mainloop() "
   ]
  },
  {
   "cell_type": "raw",
   "metadata": {},
   "source": [
    "CheckButton: To select any number of options by displaying a number of options to a user as toggle buttons. The general syntax is: \n",
    "\n",
    "w = CheckButton(master, option=value)\n",
    "\n",
    "There are number of options which are used to change the format of this widget. Number of options can be passed as parameters separated by commas. \n",
    "\n",
    "\n",
    "Some of them are listed below.\n",
    "\n",
    "Title: To set the title of the widget.\n",
    "\n",
    "activebackground: to set the background color when widget is under the cursor.\n",
    "\n",
    "activeforeground: to set the foreground color when widget is under the cursor.\n",
    "\n",
    "bg: to set he normal backgrouSteganography Break\n",
    "\n",
    "Secret Code:\n",
    "\n",
    "Attach a File:nd color.\n",
    "\n",
    "command: to call a function.\n",
    "\n",
    "font: to set the font on the button label.\n",
    "\n",
    "image: to set the image on the widget."
   ]
  },
  {
   "cell_type": "code",
   "execution_count": 19,
   "metadata": {},
   "outputs": [],
   "source": [
    "from tkinter import *\n",
    "master = Tk() \n",
    "var1 = IntVar() \n",
    "Checkbutton(master, text='male', variable=var1).grid(row=0, sticky=W) \n",
    "var2 = IntVar() \n",
    "Checkbutton(master, text='female', variable=var2).grid(row=1, sticky=W) \n",
    "mainloop() "
   ]
  },
  {
   "cell_type": "raw",
   "metadata": {},
   "source": [
    "Entry:It is used to input the single line text entry from the user.. For multi-line text input, Text widget is used.\n",
    "The general syntax is:\n",
    "    w=Entry(master, option=value)\n",
    "master is the parameter used to represent the parent window.\n",
    "There are number of options which are used to change the format of the widget. Number of options can be passed as parameters separated by commas.\n",
    "\n",
    "Some of them are listed below.\n",
    "\n",
    "bd: to set the border width in pixels.\n",
    "\n",
    "bg: to set the normal background color.\n",
    "\n",
    "cursor: to set the cursor used.\n",
    "\n",
    "command: to call a function.\n",
    "\n",
    "highlightcolor: to set the color shown in the focus highlight.\n",
    "\n",
    "width: to set the width of the button.\n",
    "\n",
    "height: to set the height of the button."
   ]
  },
  {
   "cell_type": "code",
   "execution_count": 20,
   "metadata": {},
   "outputs": [],
   "source": [
    "from tkinter import *\n",
    "master = Tk() \n",
    "Label(master, text='First Name').grid(row=0) \n",
    "Label(master, text='Last Name').grid(row=1) \n",
    "e1 = Entry(master) \n",
    "e2 = Entry(master) \n",
    "e1.grid(row=0, column=1) \n",
    "e2.grid(row=1, column=1) \n",
    "mainloop() "
   ]
  },
  {
   "cell_type": "raw",
   "metadata": {},
   "source": [
    "Frame: It acts as a container to hold the widgets. It is used for grouping and organizing the widgets. The general syntax is: \n",
    "\n",
    "w = Frame(master, option=value)\n",
    "\n",
    "master is the parameter used to represent the parent window.\n",
    "There are number of options which are used to change the format of the widget. Number of options can be passed as parameters separated by commas. \n",
    "\n",
    "Some of them are listed below.\n",
    "\n",
    "highlightcolor: To set the color of the focus highlight when widget has to be focused.\n",
    "bd: to set the border width in pixels.\n",
    "bg: to set the normal background color.\n",
    "cursor: to set the cursor used.\n",
    "width: to set the width of the widget.\n",
    "height: to set the height of the widget."
   ]
  },
  {
   "cell_type": "code",
   "execution_count": 21,
   "metadata": {},
   "outputs": [],
   "source": [
    "from tkinter import *\n",
    "  \n",
    "root = Tk() \n",
    "frame = Frame(root) \n",
    "frame.pack() \n",
    "bottomframe = Frame(root) \n",
    "bottomframe.pack( side = BOTTOM ) \n",
    "redbutton = Button(frame, text = 'Red', fg ='red') \n",
    "redbutton.pack( side = LEFT) \n",
    "greenbutton = Button(frame, text = 'Brown', fg='brown') \n",
    "greenbutton.pack( side = LEFT ) \n",
    "bluebutton = Button(frame, text ='Blue', fg ='blue') \n",
    "bluebutton.pack( side = LEFT ) \n",
    "blackbutton = Button(bottomframe, text ='Black', fg ='black') \n",
    "blackbutton.pack( side = BOTTOM) \n",
    "root.mainloop() "
   ]
  },
  {
   "cell_type": "raw",
   "metadata": {},
   "source": [
    "Label: It refers to the display box where you can put any text or image which can be updated any time as per the code.\n",
    "The general syntax is: \n",
    "    \n",
    "w=Label(master, option=value)\n",
    "master is the parameter used to represent the parent window.\n",
    "\n",
    "There are number of options which are used to change the format of the widget.\n",
    "\n",
    "Number of options can be passed as parameters separated by commas. Some of them are listed below.\n",
    "bg: to set he normal background color.\n",
    "bg to set he normal background color.\n",
    "command: to call a function.\n",
    "font: to set the font on the button label.\n",
    "image: to set the image on the button.\n",
    "width: to set the width of the button.\n",
    "height” to set the height of the button."
   ]
  },
  {
   "cell_type": "code",
   "execution_count": 22,
   "metadata": {},
   "outputs": [],
   "source": [
    "from tkinter import *\n",
    "root = Tk() \n",
    "w = Label(root, text='I LOve GUI') \n",
    "w.pack() \n",
    "root.mainloop() "
   ]
  },
  {
   "cell_type": "raw",
   "metadata": {},
   "source": [
    "Listbox: It offers a list to the user from which the user can accept any number of options.\n",
    "The general syntax is: \n",
    "    \n",
    "w = Listbox(master, option=value)\n",
    "master is the parameter used to represent the parent window.\n",
    "There are number of options which are used to change the format of the widget. Number of options can be passed as parameters separated by commas. \n",
    "\n",
    "Some of them are listed below.\n",
    "highlightcolor: To set the color of the focus highlight when widget has to be focused.\n",
    "bg: to set he normal background color.\n",
    "bd: to set the border width in pixels.\n",
    "font: to set the font on the button label.\n",
    "image: to set the image on the widget.\n",
    "width: to set the width of the widget.\n",
    "height: to set the height of the widget."
   ]
  },
  {
   "cell_type": "code",
   "execution_count": 23,
   "metadata": {},
   "outputs": [],
   "source": [
    "from tkinter import *\n",
    "  \n",
    "top = Tk() \n",
    "Lb = Listbox(top) \n",
    "Lb.insert(1, 'Python') \n",
    "Lb.insert(2, 'Java') \n",
    "Lb.insert(3, 'C++') \n",
    "Lb.insert(4, 'Any other') \n",
    "Lb.pack() \n",
    "top.mainloop() "
   ]
  },
  {
   "cell_type": "raw",
   "metadata": {},
   "source": [
    "MenuButton: It is a part of top-down menu which stays on the window all the time. Every menubutton has its own functionality. \n",
    "\n",
    "The general syntax is: \n",
    "w = MenuButton(master, option=value)\n",
    "master is the parameter used to represent the parent window.\n",
    "\n",
    "There are number of options which are used to change the format of the widget. Number of options can be passed as parameters separated by commas.\n",
    "\n",
    "Some of them are listed below.\n",
    "activebackground: To set the background when mouse is over the widget.\n",
    "activeforeground: To set the foreground when mouse is over the widget.\n",
    "bg: to set he normal background color.\n",
    "bd: to set the size of border around the indicator.\n",
    "cursor: To appear the cursor when the mouse over the menubutton.\n",
    "image: to set the image on the widget.\n",
    "width: to set the width of the widget.\n",
    "height: to set the height of the widget.\n",
    "highlightcolor: To set the color of the focus highlight when widget has to be focused."
   ]
  },
  {
   "cell_type": "code",
   "execution_count": null,
   "metadata": {},
   "outputs": [],
   "source": []
  },
  {
   "cell_type": "code",
   "execution_count": 8,
   "metadata": {},
   "outputs": [
    {
     "ename": "SyntaxError",
     "evalue": "invalid syntax (<ipython-input-8-3b0228e11564>, line 4)",
     "output_type": "error",
     "traceback": [
      "\u001b[1;36m  File \u001b[1;32m\"<ipython-input-8-3b0228e11564>\"\u001b[1;36m, line \u001b[1;32m4\u001b[0m\n\u001b[1;33m    mb =  Menubutton ( top, text = &quot;GfG&quot;)\u001b[0m\n\u001b[1;37m                                   ^\u001b[0m\n\u001b[1;31mSyntaxError\u001b[0m\u001b[1;31m:\u001b[0m invalid syntax\n"
     ]
    }
   ],
   "source": [
    "from tkinter import *\n",
    "  \n",
    "top = Tk() \n",
    "mb =  Menubutton ( top, text = &quot;GfG&quot;) \n",
    "mb.grid() \n",
    "mb.menu  =  Menu ( mb, tearoff = 0 ) \n",
    "mb[&quot;menu&quot;]  =  mb.menu \n",
    "cVar  = IntVar() \n",
    "aVar = IntVar() \n",
    "mb.menu.add_checkbutton ( label ='Contact', variable = cVar ) \n",
    "mb.menu.add_checkbutton ( label = 'About', variable = aVar ) \n",
    "mb.pack() \n",
    "top.mainloop() "
   ]
  },
  {
   "cell_type": "raw",
   "metadata": {},
   "source": [
    "Menu: It is used to create all kinds of menus used by the application.\n",
    "\n",
    "The general syntax is: \n",
    "w = Menu(master, option=value)\n",
    "master is the parameter used to represent the parent window.\n",
    "\n",
    "There are number of options which are used to change the format of this widget. Number of options can be passed as parameters separated by commas. \n",
    "\n",
    "Some of them are listed below.\n",
    "title: To set the title of the widget.\n",
    "activebackground: to set the background color when widget is under the cursor.\n",
    "activeforeground: to set the foreground color when widget is under the cursor.\n",
    "bg: to set he normal background color.\n",
    "command: to call a function.\n",
    "font: to set the font on the button label.\n",
    "image: to set the image on the widget."
   ]
  },
  {
   "cell_type": "raw",
   "metadata": {},
   "source": [
    "Message: It refers to the multi-line and non-editable text. It works same as that of Label.\n",
    "The general syntax is:\n",
    "\n",
    "\n",
    "w = Message(master, option=value)\n",
    "master is the parameter used to represent the parent window.\n",
    "There are number of options which are used to change the format of the widget. Number of options can be passed as parameters separated by commas. \n",
    "\n",
    "Some of them are listed below.\n",
    "bd: to set the border around the indicator.\n",
    "bg: to set he normal background color.\n",
    "font: to set the font on the button label.\n",
    "image: to set the image on the widget.\n",
    "width: to set the width of the widget.\n",
    "height: to set the height of the widget."
   ]
  },
  {
   "cell_type": "code",
   "execution_count": 24,
   "metadata": {},
   "outputs": [],
   "source": [
    "from tkinter import *\n",
    "main = Tk() \n",
    "ourMessage ='This is our Message'\n",
    "messageVar = Message(main, text = ourMessage) \n",
    "messageVar.config(bg='lightgreen') \n",
    "messageVar.pack( ) \n",
    "main.mainloop( ) "
   ]
  },
  {
   "cell_type": "raw",
   "metadata": {},
   "source": [
    "RadioButton: It is used to offer multi-choice option to the user. It offers several options to the user and the user has to choose one option.\n",
    "\n",
    "The general syntax is: \n",
    "w = RadioButton(master, option=value)\n",
    "\n",
    "There are number of options which are used to change the format of this widget. Number of options can be passed as parameters separated by commas. \n",
    "\n",
    "Some of them are listed below.\n",
    "activebackground: to set the background color when widget is under the cursor.\n",
    "activeforeground: to set the foreground color when widget is under the cursor.\n",
    "bg: to set he normal background color.\n",
    "command: to call a function.\n",
    "font: to set the font on the button label.\n",
    "image: to set the image on the widget.\n",
    "width: to set the width of the label in characters.\n",
    "height: to set the height of the label in characters."
   ]
  },
  {
   "cell_type": "code",
   "execution_count": 25,
   "metadata": {},
   "outputs": [],
   "source": [
    "from tkinter import *\n",
    "root = Tk() \n",
    "v = IntVar() \n",
    "Radiobutton(root, text='GfG', variable=v, value=1).pack(anchor=W) \n",
    "Radiobutton(root, text='MIT', variable=v, value=2).pack(anchor=W) \n",
    "mainloop() "
   ]
  },
  {
   "cell_type": "raw",
   "metadata": {},
   "source": [
    "Scale: It is used to provide a graphical slider that allows to select any value from that scale. The general syntax is: \n",
    "\n",
    "w = Scale(master, option=value)\n",
    "master is the parameter used to represent the parent window.\n",
    "There are number of options which are used to change the format of the widget. Number of options can be passed as parameters separated by commas. \n",
    "\n",
    "Some of them are listed below.\n",
    "cursor: To change the cursor pattern when the mouse is over the widget.\n",
    "activebackground: To set the background of the widget when mouse is over the widget.\n",
    "bg: to set he normal background color.\n",
    "orient: Set it to HORIZONTAL or VERTICAL according to the requirement.\n",
    "from_: To set the value of one end of the scale range.\n",
    "to: To set the value of the other end of the scale range.\n",
    "image: to set the image on the widget.\n",
    "width: to set the width of the widget."
   ]
  },
  {
   "cell_type": "code",
   "execution_count": 26,
   "metadata": {},
   "outputs": [],
   "source": [
    "from tkinter import *\n",
    "master = Tk() \n",
    "w = Scale(master, from_=0, to=42) \n",
    "w.pack() \n",
    "w = Scale(master, from_=0, to=200, orient=HORIZONTAL) \n",
    "w.pack() \n",
    "mainloop() "
   ]
  },
  {
   "cell_type": "raw",
   "metadata": {},
   "source": [
    "Scrollbar: It refers to the slide controller which will be used to implement listed widgets.\n",
    "The general syntax is: \n",
    "w = Scrollbar(master, option=value)\n",
    "master is the parameter used to represent the parent window.\n",
    "There are number of options which are used to change the format of the widget. Number of options can be passed as parameters separated by commas. \n",
    "\n",
    "Some of them are listed below.\n",
    "width: to set the width of the widget.\n",
    "activebackground: To set the background when mouse is over the widget.\n",
    "bg: to set he normal background color.\n",
    "bd: to set the size of border around the indicator.\n",
    "cursor: To appear the cursor when the mouse over the menubutton."
   ]
  },
  {
   "cell_type": "code",
   "execution_count": 27,
   "metadata": {},
   "outputs": [],
   "source": [
    "from tkinter import *\n",
    "root = Tk() \n",
    "scrollbar = Scrollbar(root) \n",
    "scrollbar.pack( side = RIGHT, fill = Y ) \n",
    "mylist = Listbox(root, yscrollcommand = scrollbar.set ) \n",
    "for line in range(100): \n",
    "   mylist.insert(END, 'This is line number' + str(line)) \n",
    "mylist.pack( side = LEFT, fill = BOTH ) \n",
    "scrollbar.config( command = mylist.yview ) \n",
    "mainloop()"
   ]
  },
  {
   "cell_type": "raw",
   "metadata": {},
   "source": [
    "Text: To edit a multi-line text and format the way it has to be displayed.\n",
    "The general syntax is: \n",
    "\n",
    "w  =Text(master, option=value)\n",
    "There are number of options which are used to change the format of the text. Number of options can be passed as parameters separated by commas. \n",
    "\n",
    "Some of them are listed below.\n",
    "highlightcolor: To set the color of the focus highlight when widget has to be focused.\n",
    "insertbackground: To set the background of the widget.\n",
    "bg: to set he normal background color.\n",
    "font: to set the font on the button label.\n",
    "image: to set the image on the widget.\n",
    "width: to set the width of the widget.\n",
    "height: to set the height of the widget."
   ]
  },
  {
   "cell_type": "code",
   "execution_count": null,
   "metadata": {},
   "outputs": [],
   "source": [
    "from tkinter import *\n",
    "root = Tk() \n",
    "T = Text(root, height=2, width=30) \n",
    "T.pack() \n",
    "T.insert(END, 'Its Our First\\nGUI\\n') \n",
    "mainloop() "
   ]
  },
  {
   "cell_type": "raw",
   "metadata": {},
   "source": [
    "TopLevel: This widget is directly controlled by the window manager. It don’t need any parent window to work on.The general syntax is: \n",
    "\n",
    "w = TopLevel(master, option=value)\n",
    "\n",
    "There are number of options which are used to change the format of the widget. Number of options can be passed as parameters separated by commas. \n",
    "\n",
    "Some of them are listed below.\n",
    "bg: to set he normal background color.\n",
    "bd: to set the size of border around the indicator.\n",
    "cursor: To appear the cursor when the mouse over the menubutton.\n",
    "width: to set the width of the widget.\n",
    "height: to set the height of the widget."
   ]
  },
  {
   "cell_type": "code",
   "execution_count": 29,
   "metadata": {},
   "outputs": [],
   "source": [
    "from tkinter import *\n",
    "root = Tk() \n",
    "\n",
    "root.title('GfG') \n",
    "top = Toplevel() \n",
    "top.title('Python') \n",
    "top.mainloop()"
   ]
  },
  {
   "cell_type": "raw",
   "metadata": {},
   "source": [
    "SpinBox: It is an entry of ‘Entry’ widget. Here, value can be input by selecting a fixed value of numbers.The general syntax is: \n",
    "w = SpinBox(master, option=value)\n",
    "\n",
    "There are number of options which are used to change the format of the widget. Number of options can be passed as parameters separated by commas.\n",
    "\n",
    "Some of them are listed below.\n",
    "bg: to set he normal background color.\n",
    "bd: to set the size of border around the indicator.\n",
    "cursor: To appear the cursor when the mouse over the menubutton.\n",
    "command: To call a function.\n",
    "width: to set the width of the widget.\n",
    "activebackground: To set the background when mouse is over the widget.\n",
    "disabledbackground: To disable the background when mouse is over the widget.\n",
    "from_: To set the value of one end of the range.\n",
    "to: To set the value of the other end of the range."
   ]
  },
  {
   "cell_type": "code",
   "execution_count": 30,
   "metadata": {},
   "outputs": [],
   "source": [
    "from tkinter import *\n",
    "master = Tk() \n",
    "w = Spinbox(master, from_ = 0, to = 10) \n",
    "w.pack() \n",
    "mainloop() "
   ]
  },
  {
   "cell_type": "raw",
   "metadata": {},
   "source": [
    "PannedWindowIt is a container widget which is used to handle number of panes arranged in it. The general syntax is: \n",
    "\n",
    "w = PannedWindow(master, option=value)\n",
    "master is the parameter used to represent the parent window.\n",
    "There are number of options which are used to change the format of the widget. Number of options can be passed as parameters separated by commas. \n",
    "\n",
    "Some of them are listed below.\n",
    "bg: to set he normal background color.\n",
    "bd: to set the size of border around the indicator.\n",
    "cursor: To appear the cursor when the mouse over the menubutton.\n",
    "width: to set the width of the widget.\n",
    "height: to set the height of the widget."
   ]
  },
  {
   "cell_type": "code",
   "execution_count": 31,
   "metadata": {},
   "outputs": [],
   "source": [
    "from tkinter import *\n",
    "m1 = PanedWindow() \n",
    "m1.pack(fill = BOTH, expand = 1) \n",
    "left = Entry(m1, bd = 5) \n",
    "m1.add(left) \n",
    "m2 = PanedWindow(m1, orient = VERTICAL) \n",
    "m1.add(m2) \n",
    "top = Scale( m2, orient = HORIZONTAL) \n",
    "m2.add(top) \n",
    "mainloop()"
   ]
  },
  {
   "cell_type": "code",
   "execution_count": 32,
   "metadata": {},
   "outputs": [],
   "source": [
    "from tkinter import *\n",
    "import tkinter\n",
    "\n",
    "top = tkinter.Tk()\n",
    "\n",
    "B1 = tkinter.Button(top, text =\"error\", relief=RAISED,\\\n",
    "                         bitmap=\"error\")\n",
    "B2 = tkinter.Button(top, text =\"hourglass\", relief=RAISED,\\\n",
    "                         bitmap=\"hourglass\")\n",
    "B3 = tkinter.Button(top, text =\"info\", relief=RAISED,\\\n",
    "                         bitmap=\"info\")\n",
    "B4 = tkinter.Button(top, text =\"question\", relief=RAISED,\\\n",
    "                         bitmap=\"question\")\n",
    "B5 = tkinter.Button(top, text =\"warning\", relief=RAISED,\\\n",
    "                         bitmap=\"warning\")\n",
    "B1.pack()\n",
    "B2.pack()\n",
    "B3.pack()\n",
    "B4.pack()\n",
    "B5.pack()\n",
    "top.mainloop()"
   ]
  },
  {
   "cell_type": "code",
   "execution_count": 33,
   "metadata": {},
   "outputs": [],
   "source": [
    "from tkinter import *\n",
    "\n",
    "root = Tk()\n",
    "var = StringVar()\n",
    "label = Message( root, textvariable=var, relief=RAISED )\n",
    "\n",
    "var.set(\"Hey!? How are you doing?\")\n",
    "label.pack()\n",
    "root.mainloop()"
   ]
  },
  {
   "cell_type": "code",
   "execution_count": null,
   "metadata": {},
   "outputs": [],
   "source": []
  }
 ],
 "metadata": {
  "kernelspec": {
   "display_name": "Python 3",
   "language": "python",
   "name": "python3"
  },
  "language_info": {
   "codemirror_mode": {
    "name": "ipython",
    "version": 3
   },
   "file_extension": ".py",
   "mimetype": "text/x-python",
   "name": "python",
   "nbconvert_exporter": "python",
   "pygments_lexer": "ipython3",
   "version": "3.7.6"
  }
 },
 "nbformat": 4,
 "nbformat_minor": 2
}
